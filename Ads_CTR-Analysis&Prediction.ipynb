{
 "cells": [
  {
   "cell_type": "code",
   "execution_count": 3,
   "metadata": {
    "collapsed": false
   },
   "outputs": [],
   "source": [
    "import pandas as pd\n",
    "import MySQLdb\n",
    "import numpy as np\n",
    "import pandas.io.sql as sql\n",
    "import matplotlib.pyplot as plt\n",
    "from sklearn.linear_model import LogisticRegression\n",
    "from sklearn.cross_validation import train_test_split\n",
    "from sklearn import metrics\n",
    "from sklearn.cross_validation import cross_val_score\n",
    "from sklearn.preprocessing import LabelEncoder"
   ]
  },
  {
   "cell_type": "code",
   "execution_count": 4,
   "metadata": {
    "collapsed": false
   },
   "outputs": [],
   "source": [
    "mysql_conn= MySQLdb.connect(host='127.0.0.1', \n",
    "                port=3306,user='root', passwd='', \n",
    "                db='Adnalytics_FinalDB')"
   ]
  },
  {
   "cell_type": "code",
   "execution_count": 5,
   "metadata": {
    "collapsed": false
   },
   "outputs": [],
   "source": [
    "cursor = mysql_conn.cursor()"
   ]
  },
  {
   "cell_type": "code",
   "execution_count": 6,
   "metadata": {
    "collapsed": false
   },
   "outputs": [],
   "source": [
    "query = \"SELECT Ad_Title, Ad_Display_Position, Ad_Type, Search_Key_Text, Search_Location, \\\n",
    "Linking_Site_URL, Parent_Site_URL, Device_Type, Is_Clicked \\\n",
    "FROM Ad_Impressions, Ads_Information, Search_Information, Search_Keywords, Search_Keywords_Combo \\\n",
    "WHERE Ad_Impressions.Ad_Id = Ads_Information.Ad_Id \\\n",
    "AND Ad_Impressions.Search_Id = Search_Keywords_Combo.Search_Id \\\n",
    "AND Ad_Impressions.Search_Id = Search_Information.Search_Id \\\n",
    "AND Search_Keywords_Combo.Search_Key_Id = Search_Keywords.Search_Key_Id\""
   ]
  },
  {
   "cell_type": "code",
   "execution_count": 7,
   "metadata": {
    "collapsed": false
   },
   "outputs": [
    {
     "data": {
      "text/plain": [
       "120159L"
      ]
     },
     "execution_count": 7,
     "metadata": {},
     "output_type": "execute_result"
    }
   ],
   "source": [
    "cursor.execute(query)"
   ]
  },
  {
   "cell_type": "code",
   "execution_count": 8,
   "metadata": {
    "collapsed": true
   },
   "outputs": [],
   "source": [
    "rows = cursor.fetchall()"
   ]
  },
  {
   "cell_type": "code",
   "execution_count": 9,
   "metadata": {
    "collapsed": false
   },
   "outputs": [],
   "source": [
    "ad_impressions_frame = sql.read_sql_query(query, mysql_conn)"
   ]
  },
  {
   "cell_type": "code",
   "execution_count": 10,
   "metadata": {
    "collapsed": false
   },
   "outputs": [
    {
     "data": {
      "text/html": [
       "<div>\n",
       "<table border=\"1\" class=\"dataframe\">\n",
       "  <thead>\n",
       "    <tr style=\"text-align: right;\">\n",
       "      <th></th>\n",
       "      <th>Ad_Title</th>\n",
       "      <th>Ad_Display_Position</th>\n",
       "      <th>Ad_Type</th>\n",
       "      <th>Search_Key_Text</th>\n",
       "      <th>Search_Location</th>\n",
       "      <th>Linking_Site_URL</th>\n",
       "      <th>Parent_Site_URL</th>\n",
       "      <th>Device_Type</th>\n",
       "      <th>Is_Clicked</th>\n",
       "    </tr>\n",
       "  </thead>\n",
       "  <tbody>\n",
       "    <tr>\n",
       "      <th>0</th>\n",
       "      <td>Innovation Observatory</td>\n",
       "      <td>2</td>\n",
       "      <td>Type 2</td>\n",
       "      <td>Cymru</td>\n",
       "      <td>Fort Wayne</td>\n",
       "      <td>http://www.apr.ac.uk/</td>\n",
       "      <td>http://www.vam.ac.uk/</td>\n",
       "      <td>Mobile</td>\n",
       "      <td>1</td>\n",
       "    </tr>\n",
       "    <tr>\n",
       "      <th>1</th>\n",
       "      <td>Adrenaline Creative</td>\n",
       "      <td>2</td>\n",
       "      <td>Type 2</td>\n",
       "      <td>Cymru</td>\n",
       "      <td>Fort Wayne</td>\n",
       "      <td>http://www.apr.ac.uk/</td>\n",
       "      <td>http://fairsay.com/</td>\n",
       "      <td>Mobile</td>\n",
       "      <td>1</td>\n",
       "    </tr>\n",
       "    <tr>\n",
       "      <th>2</th>\n",
       "      <td>Coal Research Forum (CRF)</td>\n",
       "      <td>6</td>\n",
       "      <td>Type 6</td>\n",
       "      <td>Cymru</td>\n",
       "      <td>Fort Wayne</td>\n",
       "      <td>http://www.apr.ac.uk/</td>\n",
       "      <td>http://www.curethenhs.co.uk/</td>\n",
       "      <td>Mobile</td>\n",
       "      <td>1</td>\n",
       "    </tr>\n",
       "    <tr>\n",
       "      <th>3</th>\n",
       "      <td>Leeds City Credit Union</td>\n",
       "      <td>2</td>\n",
       "      <td>Type 8</td>\n",
       "      <td>Cymru</td>\n",
       "      <td>Fort Wayne</td>\n",
       "      <td>http://www.apr.ac.uk/</td>\n",
       "      <td>http://www.politicalinnovation.org/</td>\n",
       "      <td>Mobile</td>\n",
       "      <td>1</td>\n",
       "    </tr>\n",
       "    <tr>\n",
       "      <th>4</th>\n",
       "      <td>Quaker Theatre Company</td>\n",
       "      <td>4</td>\n",
       "      <td>Type 7</td>\n",
       "      <td>Cymru</td>\n",
       "      <td>Fort Wayne</td>\n",
       "      <td>http://www.apr.ac.uk/</td>\n",
       "      <td>http://news.bbc.co.uk/1/hi/wales/7745707.stm</td>\n",
       "      <td>Mobile</td>\n",
       "      <td>1</td>\n",
       "    </tr>\n",
       "    <tr>\n",
       "      <th>5</th>\n",
       "      <td>DW &amp; Associates Ltd</td>\n",
       "      <td>3</td>\n",
       "      <td>Type 1</td>\n",
       "      <td>Cymru</td>\n",
       "      <td>Fort Wayne</td>\n",
       "      <td>http://www.apr.ac.uk/</td>\n",
       "      <td>http://www.waronwant.org/</td>\n",
       "      <td>Mobile</td>\n",
       "      <td>0</td>\n",
       "    </tr>\n",
       "    <tr>\n",
       "      <th>6</th>\n",
       "      <td>Eversheds</td>\n",
       "      <td>3</td>\n",
       "      <td>Type 6</td>\n",
       "      <td>Cymru</td>\n",
       "      <td>Fort Wayne</td>\n",
       "      <td>http://www.apr.ac.uk/</td>\n",
       "      <td>http://www.staffs.ac.uk/xcri/</td>\n",
       "      <td>Mobile</td>\n",
       "      <td>0</td>\n",
       "    </tr>\n",
       "    <tr>\n",
       "      <th>7</th>\n",
       "      <td>Innovation Observatory</td>\n",
       "      <td>2</td>\n",
       "      <td>Type 2</td>\n",
       "      <td>Glastonbury</td>\n",
       "      <td>Fort Wayne</td>\n",
       "      <td>http://www.apr.ac.uk/</td>\n",
       "      <td>http://www.vam.ac.uk/</td>\n",
       "      <td>Mobile</td>\n",
       "      <td>1</td>\n",
       "    </tr>\n",
       "    <tr>\n",
       "      <th>8</th>\n",
       "      <td>Adrenaline Creative</td>\n",
       "      <td>2</td>\n",
       "      <td>Type 2</td>\n",
       "      <td>Glastonbury</td>\n",
       "      <td>Fort Wayne</td>\n",
       "      <td>http://www.apr.ac.uk/</td>\n",
       "      <td>http://fairsay.com/</td>\n",
       "      <td>Mobile</td>\n",
       "      <td>1</td>\n",
       "    </tr>\n",
       "    <tr>\n",
       "      <th>9</th>\n",
       "      <td>Coal Research Forum (CRF)</td>\n",
       "      <td>6</td>\n",
       "      <td>Type 6</td>\n",
       "      <td>Glastonbury</td>\n",
       "      <td>Fort Wayne</td>\n",
       "      <td>http://www.apr.ac.uk/</td>\n",
       "      <td>http://www.curethenhs.co.uk/</td>\n",
       "      <td>Mobile</td>\n",
       "      <td>1</td>\n",
       "    </tr>\n",
       "  </tbody>\n",
       "</table>\n",
       "</div>"
      ],
      "text/plain": [
       "                    Ad_Title  Ad_Display_Position Ad_Type Search_Key_Text  \\\n",
       "0     Innovation Observatory                    2  Type 2           Cymru   \n",
       "1        Adrenaline Creative                    2  Type 2           Cymru   \n",
       "2  Coal Research Forum (CRF)                    6  Type 6           Cymru   \n",
       "3    Leeds City Credit Union                    2  Type 8           Cymru   \n",
       "4     Quaker Theatre Company                    4  Type 7           Cymru   \n",
       "5        DW & Associates Ltd                    3  Type 1           Cymru   \n",
       "6                  Eversheds                    3  Type 6           Cymru   \n",
       "7     Innovation Observatory                    2  Type 2     Glastonbury   \n",
       "8        Adrenaline Creative                    2  Type 2     Glastonbury   \n",
       "9  Coal Research Forum (CRF)                    6  Type 6     Glastonbury   \n",
       "\n",
       "  Search_Location       Linking_Site_URL  \\\n",
       "0      Fort Wayne  http://www.apr.ac.uk/   \n",
       "1      Fort Wayne  http://www.apr.ac.uk/   \n",
       "2      Fort Wayne  http://www.apr.ac.uk/   \n",
       "3      Fort Wayne  http://www.apr.ac.uk/   \n",
       "4      Fort Wayne  http://www.apr.ac.uk/   \n",
       "5      Fort Wayne  http://www.apr.ac.uk/   \n",
       "6      Fort Wayne  http://www.apr.ac.uk/   \n",
       "7      Fort Wayne  http://www.apr.ac.uk/   \n",
       "8      Fort Wayne  http://www.apr.ac.uk/   \n",
       "9      Fort Wayne  http://www.apr.ac.uk/   \n",
       "\n",
       "                                Parent_Site_URL Device_Type  Is_Clicked  \n",
       "0                         http://www.vam.ac.uk/      Mobile           1  \n",
       "1                           http://fairsay.com/      Mobile           1  \n",
       "2                  http://www.curethenhs.co.uk/      Mobile           1  \n",
       "3           http://www.politicalinnovation.org/      Mobile           1  \n",
       "4  http://news.bbc.co.uk/1/hi/wales/7745707.stm      Mobile           1  \n",
       "5                     http://www.waronwant.org/      Mobile           0  \n",
       "6                 http://www.staffs.ac.uk/xcri/      Mobile           0  \n",
       "7                         http://www.vam.ac.uk/      Mobile           1  \n",
       "8                           http://fairsay.com/      Mobile           1  \n",
       "9                  http://www.curethenhs.co.uk/      Mobile           1  "
      ]
     },
     "execution_count": 10,
     "metadata": {},
     "output_type": "execute_result"
    }
   ],
   "source": [
    "ad_impressions_frame.head(10)"
   ]
  },
  {
   "cell_type": "code",
   "execution_count": 11,
   "metadata": {
    "collapsed": false
   },
   "outputs": [],
   "source": [
    "ad_impressions_frame = ad_impressions_frame.sort_values(['Search_Location'], ascending=[1]);"
   ]
  },
  {
   "cell_type": "code",
   "execution_count": 12,
   "metadata": {
    "collapsed": false
   },
   "outputs": [
    {
     "data": {
      "text/html": [
       "<div>\n",
       "<table border=\"1\" class=\"dataframe\">\n",
       "  <thead>\n",
       "    <tr style=\"text-align: right;\">\n",
       "      <th></th>\n",
       "      <th>Ad_Title</th>\n",
       "      <th>Ad_Display_Position</th>\n",
       "      <th>Ad_Type</th>\n",
       "      <th>Search_Key_Text</th>\n",
       "      <th>Search_Location</th>\n",
       "      <th>Linking_Site_URL</th>\n",
       "      <th>Parent_Site_URL</th>\n",
       "      <th>Device_Type</th>\n",
       "      <th>Is_Clicked</th>\n",
       "    </tr>\n",
       "  </thead>\n",
       "  <tbody>\n",
       "    <tr>\n",
       "      <th>15375</th>\n",
       "      <td>Clinical &amp; Biomedical Computing Ltd</td>\n",
       "      <td>2</td>\n",
       "      <td>Type 4</td>\n",
       "      <td>Analysis</td>\n",
       "      <td>Akron</td>\n",
       "      <td>http://news.bbc.co.uk/1/hi/world/americas/8021...</td>\n",
       "      <td>http://www.alanmilburn.co.uk/</td>\n",
       "      <td>Mobile</td>\n",
       "      <td>1</td>\n",
       "    </tr>\n",
       "    <tr>\n",
       "      <th>2537</th>\n",
       "      <td>Concrete Centre, The</td>\n",
       "      <td>5</td>\n",
       "      <td>Type 4</td>\n",
       "      <td>BBC</td>\n",
       "      <td>Akron</td>\n",
       "      <td>http://www.unfinishedhistories.com/</td>\n",
       "      <td>http://jonball.org/</td>\n",
       "      <td>Mobile</td>\n",
       "      <td>0</td>\n",
       "    </tr>\n",
       "    <tr>\n",
       "      <th>2536</th>\n",
       "      <td>Global Regulatory Services (GRS)</td>\n",
       "      <td>6</td>\n",
       "      <td>Type 3</td>\n",
       "      <td>BBC</td>\n",
       "      <td>Akron</td>\n",
       "      <td>http://www.unfinishedhistories.com/</td>\n",
       "      <td>http://www.bbc.co.uk/news/uk-politics-14366522</td>\n",
       "      <td>Mobile</td>\n",
       "      <td>1</td>\n",
       "    </tr>\n",
       "    <tr>\n",
       "      <th>2535</th>\n",
       "      <td>Cloud of Data, The</td>\n",
       "      <td>6</td>\n",
       "      <td>Type 3</td>\n",
       "      <td>BBC</td>\n",
       "      <td>Akron</td>\n",
       "      <td>http://www.unfinishedhistories.com/</td>\n",
       "      <td>http://www.hostuk.org/</td>\n",
       "      <td>Mobile</td>\n",
       "      <td>1</td>\n",
       "    </tr>\n",
       "    <tr>\n",
       "      <th>2534</th>\n",
       "      <td>Londonist: Olympic News Round-Up</td>\n",
       "      <td>5</td>\n",
       "      <td>Type 4</td>\n",
       "      <td>BBC</td>\n",
       "      <td>Akron</td>\n",
       "      <td>http://www.unfinishedhistories.com/</td>\n",
       "      <td>http://www.e-d-e.org/?lang=en</td>\n",
       "      <td>Mobile</td>\n",
       "      <td>0</td>\n",
       "    </tr>\n",
       "  </tbody>\n",
       "</table>\n",
       "</div>"
      ],
      "text/plain": [
       "                                  Ad_Title  Ad_Display_Position Ad_Type  \\\n",
       "15375  Clinical & Biomedical Computing Ltd                    2  Type 4   \n",
       "2537                  Concrete Centre, The                    5  Type 4   \n",
       "2536      Global Regulatory Services (GRS)                    6  Type 3   \n",
       "2535                    Cloud of Data, The                    6  Type 3   \n",
       "2534      Londonist: Olympic News Round-Up                    5  Type 4   \n",
       "\n",
       "      Search_Key_Text Search_Location  \\\n",
       "15375        Analysis           Akron   \n",
       "2537              BBC           Akron   \n",
       "2536              BBC           Akron   \n",
       "2535              BBC           Akron   \n",
       "2534              BBC           Akron   \n",
       "\n",
       "                                        Linking_Site_URL  \\\n",
       "15375  http://news.bbc.co.uk/1/hi/world/americas/8021...   \n",
       "2537                 http://www.unfinishedhistories.com/   \n",
       "2536                 http://www.unfinishedhistories.com/   \n",
       "2535                 http://www.unfinishedhistories.com/   \n",
       "2534                 http://www.unfinishedhistories.com/   \n",
       "\n",
       "                                      Parent_Site_URL Device_Type  Is_Clicked  \n",
       "15375                   http://www.alanmilburn.co.uk/      Mobile           1  \n",
       "2537                              http://jonball.org/      Mobile           0  \n",
       "2536   http://www.bbc.co.uk/news/uk-politics-14366522      Mobile           1  \n",
       "2535                           http://www.hostuk.org/      Mobile           1  \n",
       "2534                    http://www.e-d-e.org/?lang=en      Mobile           0  "
      ]
     },
     "execution_count": 12,
     "metadata": {},
     "output_type": "execute_result"
    }
   ],
   "source": [
    "ad_impressions_frame.head()"
   ]
  },
  {
   "cell_type": "code",
   "execution_count": 13,
   "metadata": {
    "collapsed": true
   },
   "outputs": [],
   "source": [
    "%matplotlib inline"
   ]
  },
  {
   "cell_type": "code",
   "execution_count": 14,
   "metadata": {
    "collapsed": false
   },
   "outputs": [
    {
     "data": {
      "text/plain": [
       "<matplotlib.axes._subplots.AxesSubplot at 0x125036990>"
      ]
     },
     "execution_count": 14,
     "metadata": {},
     "output_type": "execute_result"
    },
    {
     "data": {
      "image/png": "[encoded data removed]",
      "text/plain": [
       "<matplotlib.figure.Figure at 0x1074ba810>"
      ]
     },
     "metadata": {},
     "output_type": "display_data"
    }
   ],
   "source": [
    "ad_impressions_frame.plot()"
   ]
  },
  {
   "cell_type": "code",
   "execution_count": 15,
   "metadata": {
    "collapsed": false
   },
   "outputs": [
    {
     "data": {
      "text/html": [
       "<div>\n",
       "<table border=\"1\" class=\"dataframe\">\n",
       "  <thead>\n",
       "    <tr style=\"text-align: right;\">\n",
       "      <th></th>\n",
       "      <th>Ad_Display_Position</th>\n",
       "      <th>Is_Clicked</th>\n",
       "    </tr>\n",
       "    <tr>\n",
       "      <th>Ad_Type</th>\n",
       "      <th></th>\n",
       "      <th></th>\n",
       "    </tr>\n",
       "  </thead>\n",
       "  <tbody>\n",
       "    <tr>\n",
       "      <th>Type 1</th>\n",
       "      <td>3.486234</td>\n",
       "      <td>0.505733</td>\n",
       "    </tr>\n",
       "    <tr>\n",
       "      <th>Type 2</th>\n",
       "      <td>3.467623</td>\n",
       "      <td>0.524793</td>\n",
       "    </tr>\n",
       "    <tr>\n",
       "      <th>Type 3</th>\n",
       "      <td>3.512972</td>\n",
       "      <td>0.504708</td>\n",
       "    </tr>\n",
       "    <tr>\n",
       "      <th>Type 4</th>\n",
       "      <td>3.514775</td>\n",
       "      <td>0.498800</td>\n",
       "    </tr>\n",
       "    <tr>\n",
       "      <th>Type 5</th>\n",
       "      <td>3.555607</td>\n",
       "      <td>0.514658</td>\n",
       "    </tr>\n",
       "    <tr>\n",
       "      <th>Type 6</th>\n",
       "      <td>3.492321</td>\n",
       "      <td>0.484933</td>\n",
       "    </tr>\n",
       "    <tr>\n",
       "      <th>Type 7</th>\n",
       "      <td>3.532180</td>\n",
       "      <td>0.496174</td>\n",
       "    </tr>\n",
       "    <tr>\n",
       "      <th>Type 8</th>\n",
       "      <td>3.485718</td>\n",
       "      <td>0.490330</td>\n",
       "    </tr>\n",
       "  </tbody>\n",
       "</table>\n",
       "</div>"
      ],
      "text/plain": [
       "         Ad_Display_Position  Is_Clicked\n",
       "Ad_Type                                 \n",
       "Type 1              3.486234    0.505733\n",
       "Type 2              3.467623    0.524793\n",
       "Type 3              3.512972    0.504708\n",
       "Type 4              3.514775    0.498800\n",
       "Type 5              3.555607    0.514658\n",
       "Type 6              3.492321    0.484933\n",
       "Type 7              3.532180    0.496174\n",
       "Type 8              3.485718    0.490330"
      ]
     },
     "execution_count": 15,
     "metadata": {},
     "output_type": "execute_result"
    }
   ],
   "source": [
    "ad_impressions_frame.groupby('Ad_Type').mean()"
   ]
  },
  {
   "cell_type": "code",
   "execution_count": 16,
   "metadata": {
    "collapsed": false
   },
   "outputs": [
    {
     "data": {
      "text/plain": [
       "<matplotlib.text.Text at 0x12615fb10>"
      ]
     },
     "execution_count": 16,
     "metadata": {},
     "output_type": "execute_result"
    },
    {
     "data": {
      "image/png": "[encoded data removed]",
      "text/plain": [
       "<matplotlib.figure.Figure at 0x12539e650>"
      ]
     },
     "metadata": {},
     "output_type": "display_data"
    }
   ],
   "source": [
    "pd.crosstab(ad_impressions_frame.Ad_Type, ad_impressions_frame.Is_Clicked.astype(bool)).plot(kind='bar', stacked=True)\n",
    "plt.title('Ad Type Distribution by Is_Clicked Status')\n",
    "plt.xlabel('Ad Type')\n",
    "plt.ylabel('Frequency')"
   ]
  },
  {
   "cell_type": "code",
   "execution_count": 17,
   "metadata": {
    "collapsed": true
   },
   "outputs": [],
   "source": [
    "ads_ctr_model = LogisticRegression()"
   ]
  },
  {
   "cell_type": "code",
   "execution_count": 18,
   "metadata": {
    "collapsed": false
   },
   "outputs": [
    {
     "data": {
      "text/html": [
       "<div>\n",
       "<table border=\"1\" class=\"dataframe\">\n",
       "  <thead>\n",
       "    <tr style=\"text-align: right;\">\n",
       "      <th></th>\n",
       "      <th>Ad_Display_Position</th>\n",
       "      <th>Is_Clicked</th>\n",
       "    </tr>\n",
       "  </thead>\n",
       "  <tbody>\n",
       "    <tr>\n",
       "      <th>count</th>\n",
       "      <td>120159.000000</td>\n",
       "      <td>120159.000000</td>\n",
       "    </tr>\n",
       "    <tr>\n",
       "      <th>mean</th>\n",
       "      <td>3.505905</td>\n",
       "      <td>0.502601</td>\n",
       "    </tr>\n",
       "    <tr>\n",
       "      <th>std</th>\n",
       "      <td>1.490605</td>\n",
       "      <td>0.499995</td>\n",
       "    </tr>\n",
       "    <tr>\n",
       "      <th>min</th>\n",
       "      <td>0.000000</td>\n",
       "      <td>0.000000</td>\n",
       "    </tr>\n",
       "    <tr>\n",
       "      <th>25%</th>\n",
       "      <td>2.000000</td>\n",
       "      <td>0.000000</td>\n",
       "    </tr>\n",
       "    <tr>\n",
       "      <th>50%</th>\n",
       "      <td>4.000000</td>\n",
       "      <td>1.000000</td>\n",
       "    </tr>\n",
       "    <tr>\n",
       "      <th>75%</th>\n",
       "      <td>5.000000</td>\n",
       "      <td>1.000000</td>\n",
       "    </tr>\n",
       "    <tr>\n",
       "      <th>max</th>\n",
       "      <td>6.000000</td>\n",
       "      <td>1.000000</td>\n",
       "    </tr>\n",
       "  </tbody>\n",
       "</table>\n",
       "</div>"
      ],
      "text/plain": [
       "       Ad_Display_Position     Is_Clicked\n",
       "count        120159.000000  120159.000000\n",
       "mean              3.505905       0.502601\n",
       "std               1.490605       0.499995\n",
       "min               0.000000       0.000000\n",
       "25%               2.000000       0.000000\n",
       "50%               4.000000       1.000000\n",
       "75%               5.000000       1.000000\n",
       "max               6.000000       1.000000"
      ]
     },
     "execution_count": 18,
     "metadata": {},
     "output_type": "execute_result"
    }
   ],
   "source": [
    "ad_impressions_frame.describe()"
   ]
  },
  {
   "cell_type": "code",
   "execution_count": 19,
   "metadata": {
    "collapsed": false
   },
   "outputs": [
    {
     "data": {
      "text/plain": [
       "dtype('O')"
      ]
     },
     "execution_count": 19,
     "metadata": {},
     "output_type": "execute_result"
    }
   ],
   "source": [
    "ad_impressions_frame[\"Ad_Type\"].dtype"
   ]
  },
  {
   "cell_type": "code",
   "execution_count": 20,
   "metadata": {
    "collapsed": false
   },
   "outputs": [],
   "source": [
    "train, test = train_test_split(ad_impressions_frame, test_size = 0.2)"
   ]
  },
  {
   "cell_type": "code",
   "execution_count": 21,
   "metadata": {
    "collapsed": false
   },
   "outputs": [
    {
     "data": {
      "text/html": [
       "<div>\n",
       "<table border=\"1\" class=\"dataframe\">\n",
       "  <thead>\n",
       "    <tr style=\"text-align: right;\">\n",
       "      <th></th>\n",
       "      <th>Ad_Title</th>\n",
       "      <th>Ad_Display_Position</th>\n",
       "      <th>Ad_Type</th>\n",
       "      <th>Search_Key_Text</th>\n",
       "      <th>Search_Location</th>\n",
       "      <th>Linking_Site_URL</th>\n",
       "      <th>Parent_Site_URL</th>\n",
       "      <th>Device_Type</th>\n",
       "      <th>Is_Clicked</th>\n",
       "    </tr>\n",
       "  </thead>\n",
       "  <tbody>\n",
       "    <tr>\n",
       "      <th>87624</th>\n",
       "      <td>EC Resourcing</td>\n",
       "      <td>4</td>\n",
       "      <td>Type 6</td>\n",
       "      <td>Wealden</td>\n",
       "      <td>Newark</td>\n",
       "      <td>http://biblbut.wordpress.com/</td>\n",
       "      <td>http://www.nottingham.ac.uk/rippll/</td>\n",
       "      <td>Tablet</td>\n",
       "      <td>1</td>\n",
       "    </tr>\n",
       "    <tr>\n",
       "      <th>4952</th>\n",
       "      <td>Scytronix Ltd</td>\n",
       "      <td>2</td>\n",
       "      <td>Type 8</td>\n",
       "      <td>fail</td>\n",
       "      <td>St. Petersburg</td>\n",
       "      <td>http://www.robert-louis-stevenson.org/</td>\n",
       "      <td>http://www.notobikeparkingtax.com/</td>\n",
       "      <td>Mobile</td>\n",
       "      <td>1</td>\n",
       "    </tr>\n",
       "    <tr>\n",
       "      <th>28951</th>\n",
       "      <td>Route To Funding Ltd</td>\n",
       "      <td>4</td>\n",
       "      <td>Type 3</td>\n",
       "      <td>Peoples</td>\n",
       "      <td>Denver</td>\n",
       "      <td>http://news.bbc.co.uk/1/hi/technology/3558248.stm</td>\n",
       "      <td>http://ecert.ecs.soton.ac.uk/</td>\n",
       "      <td>Tablet</td>\n",
       "      <td>0</td>\n",
       "    </tr>\n",
       "    <tr>\n",
       "      <th>26970</th>\n",
       "      <td>Women's Budget Group</td>\n",
       "      <td>5</td>\n",
       "      <td>Type 3</td>\n",
       "      <td>Historical</td>\n",
       "      <td>Lubbock</td>\n",
       "      <td>http://www.warrington-worldwide.co.uk/articles...</td>\n",
       "      <td>http://www.wolfson.cam.ac.uk/</td>\n",
       "      <td>Tablet</td>\n",
       "      <td>0</td>\n",
       "    </tr>\n",
       "    <tr>\n",
       "      <th>113774</th>\n",
       "      <td>Serendipity</td>\n",
       "      <td>3</td>\n",
       "      <td>Type 4</td>\n",
       "      <td>Cymraeg</td>\n",
       "      <td>Corpus Christi</td>\n",
       "      <td>http://www.eddireader.co.uk/</td>\n",
       "      <td>http://www.diaser.org.uk/</td>\n",
       "      <td>Mobile</td>\n",
       "      <td>0</td>\n",
       "    </tr>\n",
       "  </tbody>\n",
       "</table>\n",
       "</div>"
      ],
      "text/plain": [
       "                    Ad_Title  Ad_Display_Position Ad_Type Search_Key_Text  \\\n",
       "87624          EC Resourcing                    4  Type 6         Wealden   \n",
       "4952           Scytronix Ltd                    2  Type 8            fail   \n",
       "28951   Route To Funding Ltd                    4  Type 3         Peoples   \n",
       "26970   Women's Budget Group                    5  Type 3      Historical   \n",
       "113774           Serendipity                    3  Type 4         Cymraeg   \n",
       "\n",
       "       Search_Location                                   Linking_Site_URL  \\\n",
       "87624           Newark                      http://biblbut.wordpress.com/   \n",
       "4952    St. Petersburg             http://www.robert-louis-stevenson.org/   \n",
       "28951           Denver  http://news.bbc.co.uk/1/hi/technology/3558248.stm   \n",
       "26970          Lubbock  http://www.warrington-worldwide.co.uk/articles...   \n",
       "113774  Corpus Christi                       http://www.eddireader.co.uk/   \n",
       "\n",
       "                            Parent_Site_URL Device_Type  Is_Clicked  \n",
       "87624   http://www.nottingham.ac.uk/rippll/      Tablet           1  \n",
       "4952     http://www.notobikeparkingtax.com/      Mobile           1  \n",
       "28951         http://ecert.ecs.soton.ac.uk/      Tablet           0  \n",
       "26970         http://www.wolfson.cam.ac.uk/      Tablet           0  \n",
       "113774            http://www.diaser.org.uk/      Mobile           0  "
      ]
     },
     "execution_count": 21,
     "metadata": {},
     "output_type": "execute_result"
    }
   ],
   "source": [
    "train.head()"
   ]
  },
  {
   "cell_type": "code",
   "execution_count": 22,
   "metadata": {
    "collapsed": false
   },
   "outputs": [
    {
     "data": {
      "text/html": [
       "<div>\n",
       "<table border=\"1\" class=\"dataframe\">\n",
       "  <thead>\n",
       "    <tr style=\"text-align: right;\">\n",
       "      <th></th>\n",
       "      <th>Ad_Title</th>\n",
       "      <th>Ad_Display_Position</th>\n",
       "      <th>Ad_Type</th>\n",
       "      <th>Search_Key_Text</th>\n",
       "      <th>Search_Location</th>\n",
       "      <th>Linking_Site_URL</th>\n",
       "      <th>Parent_Site_URL</th>\n",
       "      <th>Device_Type</th>\n",
       "      <th>Is_Clicked</th>\n",
       "    </tr>\n",
       "  </thead>\n",
       "  <tbody>\n",
       "    <tr>\n",
       "      <th>2639</th>\n",
       "      <td>Ipswich Transport Museum</td>\n",
       "      <td>2</td>\n",
       "      <td>Type 6</td>\n",
       "      <td>Trust</td>\n",
       "      <td>New Orleans</td>\n",
       "      <td>http://www.spinningtheweb.org.uk/</td>\n",
       "      <td>http://kensingtonlabour.com/</td>\n",
       "      <td>Desktop</td>\n",
       "      <td>1</td>\n",
       "    </tr>\n",
       "    <tr>\n",
       "      <th>115077</th>\n",
       "      <td>Blind in Business</td>\n",
       "      <td>2</td>\n",
       "      <td>Type 7</td>\n",
       "      <td>Transactions</td>\n",
       "      <td>Stockton</td>\n",
       "      <td>http://paulstubbspoet.wordpress.com/</td>\n",
       "      <td>http://sites.google.com/site/anncryermp/</td>\n",
       "      <td>Desktop</td>\n",
       "      <td>0</td>\n",
       "    </tr>\n",
       "    <tr>\n",
       "      <th>112689</th>\n",
       "      <td>Schroders</td>\n",
       "      <td>5</td>\n",
       "      <td>Type 7</td>\n",
       "      <td>Roman</td>\n",
       "      <td>Tampa</td>\n",
       "      <td>http://www.hizb-ut-tahrir.info/</td>\n",
       "      <td>http://topofthecops.com/</td>\n",
       "      <td>Tablet</td>\n",
       "      <td>1</td>\n",
       "    </tr>\n",
       "    <tr>\n",
       "      <th>61577</th>\n",
       "      <td>Beremans Limited</td>\n",
       "      <td>3</td>\n",
       "      <td>Type 8</td>\n",
       "      <td>Cymru</td>\n",
       "      <td>Seattle</td>\n",
       "      <td>http://www.annlenny.co.uk/</td>\n",
       "      <td>http://www.british-energy.co.uk/</td>\n",
       "      <td>Desktop</td>\n",
       "      <td>1</td>\n",
       "    </tr>\n",
       "    <tr>\n",
       "      <th>58021</th>\n",
       "      <td>B K Tooling</td>\n",
       "      <td>3</td>\n",
       "      <td>Type 4</td>\n",
       "      <td>Hidden</td>\n",
       "      <td>Honolulu</td>\n",
       "      <td>http://www.chorleyandleylandmethodists.org/</td>\n",
       "      <td>http://www.atl.org.uk/</td>\n",
       "      <td>Desktop</td>\n",
       "      <td>1</td>\n",
       "    </tr>\n",
       "    <tr>\n",
       "      <th>104394</th>\n",
       "      <td>Business of Fashion, The</td>\n",
       "      <td>6</td>\n",
       "      <td>Type 1</td>\n",
       "      <td>Society</td>\n",
       "      <td>Spokane</td>\n",
       "      <td>http://www.knowhere.co.uk/</td>\n",
       "      <td>http://www.home-education.org.uk/</td>\n",
       "      <td>Mobile</td>\n",
       "      <td>1</td>\n",
       "    </tr>\n",
       "    <tr>\n",
       "      <th>3580</th>\n",
       "      <td>Cambridge Resolution</td>\n",
       "      <td>3</td>\n",
       "      <td>Type 3</td>\n",
       "      <td>Jane</td>\n",
       "      <td>Fresno</td>\n",
       "      <td>http://www.themill-coppermill.org/</td>\n",
       "      <td>http://www.quaker-tapestry.co.uk/</td>\n",
       "      <td>Desktop</td>\n",
       "      <td>0</td>\n",
       "    </tr>\n",
       "    <tr>\n",
       "      <th>102240</th>\n",
       "      <td>Versio4</td>\n",
       "      <td>3</td>\n",
       "      <td>Type 7</td>\n",
       "      <td>Gymraeg</td>\n",
       "      <td>Santa Ana</td>\n",
       "      <td>http://www.stivesconservatives.com/</td>\n",
       "      <td>http://www.bnp-chronicle.com/2009/01/bnp-euro-...</td>\n",
       "      <td>Tablet</td>\n",
       "      <td>0</td>\n",
       "    </tr>\n",
       "    <tr>\n",
       "      <th>3982</th>\n",
       "      <td>Ellee Seymour, ProActive PR</td>\n",
       "      <td>5</td>\n",
       "      <td>Type 7</td>\n",
       "      <td>Linen</td>\n",
       "      <td>Tulsa</td>\n",
       "      <td>http://www.boardmantasker.com/</td>\n",
       "      <td>http://didgahenteghadi.persianblog.ir/</td>\n",
       "      <td>Tablet</td>\n",
       "      <td>0</td>\n",
       "    </tr>\n",
       "    <tr>\n",
       "      <th>47957</th>\n",
       "      <td>Seeker Movement</td>\n",
       "      <td>2</td>\n",
       "      <td>Type 8</td>\n",
       "      <td>Heart</td>\n",
       "      <td>Stockton</td>\n",
       "      <td>http://news.bbc.co.uk/1/hi/uk/1038703.stm</td>\n",
       "      <td>http://www.lesc.org.uk/</td>\n",
       "      <td>Tablet</td>\n",
       "      <td>0</td>\n",
       "    </tr>\n",
       "  </tbody>\n",
       "</table>\n",
       "</div>"
      ],
      "text/plain": [
       "                           Ad_Title  Ad_Display_Position Ad_Type  \\\n",
       "2639       Ipswich Transport Museum                    2  Type 6   \n",
       "115077            Blind in Business                    2  Type 7   \n",
       "112689                    Schroders                    5  Type 7   \n",
       "61577              Beremans Limited                    3  Type 8   \n",
       "58021                   B K Tooling                    3  Type 4   \n",
       "104394     Business of Fashion, The                    6  Type 1   \n",
       "3580           Cambridge Resolution                    3  Type 3   \n",
       "102240                      Versio4                    3  Type 7   \n",
       "3982    Ellee Seymour, ProActive PR                    5  Type 7   \n",
       "47957               Seeker Movement                    2  Type 8   \n",
       "\n",
       "       Search_Key_Text Search_Location  \\\n",
       "2639             Trust     New Orleans   \n",
       "115077    Transactions        Stockton   \n",
       "112689           Roman           Tampa   \n",
       "61577            Cymru         Seattle   \n",
       "58021           Hidden        Honolulu   \n",
       "104394         Society         Spokane   \n",
       "3580              Jane          Fresno   \n",
       "102240         Gymraeg       Santa Ana   \n",
       "3982             Linen           Tulsa   \n",
       "47957            Heart        Stockton   \n",
       "\n",
       "                                   Linking_Site_URL  \\\n",
       "2639              http://www.spinningtheweb.org.uk/   \n",
       "115077         http://paulstubbspoet.wordpress.com/   \n",
       "112689              http://www.hizb-ut-tahrir.info/   \n",
       "61577                    http://www.annlenny.co.uk/   \n",
       "58021   http://www.chorleyandleylandmethodists.org/   \n",
       "104394                   http://www.knowhere.co.uk/   \n",
       "3580             http://www.themill-coppermill.org/   \n",
       "102240          http://www.stivesconservatives.com/   \n",
       "3982                 http://www.boardmantasker.com/   \n",
       "47957     http://news.bbc.co.uk/1/hi/uk/1038703.stm   \n",
       "\n",
       "                                          Parent_Site_URL Device_Type  \\\n",
       "2639                         http://kensingtonlabour.com/     Desktop   \n",
       "115077           http://sites.google.com/site/anncryermp/     Desktop   \n",
       "112689                           http://topofthecops.com/      Tablet   \n",
       "61577                    http://www.british-energy.co.uk/     Desktop   \n",
       "58021                              http://www.atl.org.uk/     Desktop   \n",
       "104394                  http://www.home-education.org.uk/      Mobile   \n",
       "3580                    http://www.quaker-tapestry.co.uk/     Desktop   \n",
       "102240  http://www.bnp-chronicle.com/2009/01/bnp-euro-...      Tablet   \n",
       "3982               http://didgahenteghadi.persianblog.ir/      Tablet   \n",
       "47957                             http://www.lesc.org.uk/      Tablet   \n",
       "\n",
       "        Is_Clicked  \n",
       "2639             1  \n",
       "115077           0  \n",
       "112689           1  \n",
       "61577            1  \n",
       "58021            1  \n",
       "104394           1  \n",
       "3580             0  \n",
       "102240           0  \n",
       "3982             0  \n",
       "47957            0  "
      ]
     },
     "execution_count": 22,
     "metadata": {},
     "output_type": "execute_result"
    }
   ],
   "source": [
    "test.tail(10)"
   ]
  },
  {
   "cell_type": "code",
   "execution_count": 23,
   "metadata": {
    "collapsed": false
   },
   "outputs": [
    {
     "data": {
      "text/plain": [
       "Index([u'Ad_Title', u'Ad_Display_Position', u'Ad_Type', u'Search_Key_Text',\n",
       "       u'Search_Location', u'Linking_Site_URL', u'Parent_Site_URL',\n",
       "       u'Device_Type', u'Is_Clicked'],\n",
       "      dtype='object')"
      ]
     },
     "execution_count": 23,
     "metadata": {},
     "output_type": "execute_result"
    }
   ],
   "source": [
    "\n",
    "train.keys()"
   ]
  },
  {
   "cell_type": "code",
   "execution_count": 25,
   "metadata": {
    "collapsed": false
   },
   "outputs": [],
   "source": [
    "training_features = train.ix[:, 0:8]"
   ]
  },
  {
   "cell_type": "code",
   "execution_count": 26,
   "metadata": {
    "collapsed": false
   },
   "outputs": [
    {
     "data": {
      "text/html": [
       "<div>\n",
       "<table border=\"1\" class=\"dataframe\">\n",
       "  <thead>\n",
       "    <tr style=\"text-align: right;\">\n",
       "      <th></th>\n",
       "      <th>Ad_Title</th>\n",
       "      <th>Ad_Display_Position</th>\n",
       "      <th>Ad_Type</th>\n",
       "      <th>Search_Key_Text</th>\n",
       "      <th>Search_Location</th>\n",
       "      <th>Linking_Site_URL</th>\n",
       "      <th>Parent_Site_URL</th>\n",
       "      <th>Device_Type</th>\n",
       "    </tr>\n",
       "  </thead>\n",
       "  <tbody>\n",
       "    <tr>\n",
       "      <th>87624</th>\n",
       "      <td>EC Resourcing</td>\n",
       "      <td>4</td>\n",
       "      <td>Type 6</td>\n",
       "      <td>Wealden</td>\n",
       "      <td>Newark</td>\n",
       "      <td>http://biblbut.wordpress.com/</td>\n",
       "      <td>http://www.nottingham.ac.uk/rippll/</td>\n",
       "      <td>Tablet</td>\n",
       "    </tr>\n",
       "    <tr>\n",
       "      <th>4952</th>\n",
       "      <td>Scytronix Ltd</td>\n",
       "      <td>2</td>\n",
       "      <td>Type 8</td>\n",
       "      <td>fail</td>\n",
       "      <td>St. Petersburg</td>\n",
       "      <td>http://www.robert-louis-stevenson.org/</td>\n",
       "      <td>http://www.notobikeparkingtax.com/</td>\n",
       "      <td>Mobile</td>\n",
       "    </tr>\n",
       "    <tr>\n",
       "      <th>28951</th>\n",
       "      <td>Route To Funding Ltd</td>\n",
       "      <td>4</td>\n",
       "      <td>Type 3</td>\n",
       "      <td>Peoples</td>\n",
       "      <td>Denver</td>\n",
       "      <td>http://news.bbc.co.uk/1/hi/technology/3558248.stm</td>\n",
       "      <td>http://ecert.ecs.soton.ac.uk/</td>\n",
       "      <td>Tablet</td>\n",
       "    </tr>\n",
       "    <tr>\n",
       "      <th>26970</th>\n",
       "      <td>Women's Budget Group</td>\n",
       "      <td>5</td>\n",
       "      <td>Type 3</td>\n",
       "      <td>Historical</td>\n",
       "      <td>Lubbock</td>\n",
       "      <td>http://www.warrington-worldwide.co.uk/articles...</td>\n",
       "      <td>http://www.wolfson.cam.ac.uk/</td>\n",
       "      <td>Tablet</td>\n",
       "    </tr>\n",
       "    <tr>\n",
       "      <th>113774</th>\n",
       "      <td>Serendipity</td>\n",
       "      <td>3</td>\n",
       "      <td>Type 4</td>\n",
       "      <td>Cymraeg</td>\n",
       "      <td>Corpus Christi</td>\n",
       "      <td>http://www.eddireader.co.uk/</td>\n",
       "      <td>http://www.diaser.org.uk/</td>\n",
       "      <td>Mobile</td>\n",
       "    </tr>\n",
       "  </tbody>\n",
       "</table>\n",
       "</div>"
      ],
      "text/plain": [
       "                    Ad_Title  Ad_Display_Position Ad_Type Search_Key_Text  \\\n",
       "87624          EC Resourcing                    4  Type 6         Wealden   \n",
       "4952           Scytronix Ltd                    2  Type 8            fail   \n",
       "28951   Route To Funding Ltd                    4  Type 3         Peoples   \n",
       "26970   Women's Budget Group                    5  Type 3      Historical   \n",
       "113774           Serendipity                    3  Type 4         Cymraeg   \n",
       "\n",
       "       Search_Location                                   Linking_Site_URL  \\\n",
       "87624           Newark                      http://biblbut.wordpress.com/   \n",
       "4952    St. Petersburg             http://www.robert-louis-stevenson.org/   \n",
       "28951           Denver  http://news.bbc.co.uk/1/hi/technology/3558248.stm   \n",
       "26970          Lubbock  http://www.warrington-worldwide.co.uk/articles...   \n",
       "113774  Corpus Christi                       http://www.eddireader.co.uk/   \n",
       "\n",
       "                            Parent_Site_URL Device_Type  \n",
       "87624   http://www.nottingham.ac.uk/rippll/      Tablet  \n",
       "4952     http://www.notobikeparkingtax.com/      Mobile  \n",
       "28951         http://ecert.ecs.soton.ac.uk/      Tablet  \n",
       "26970         http://www.wolfson.cam.ac.uk/      Tablet  \n",
       "113774            http://www.diaser.org.uk/      Mobile  "
      ]
     },
     "execution_count": 26,
     "metadata": {},
     "output_type": "execute_result"
    }
   ],
   "source": [
    "training_features.head()"
   ]
  },
  {
   "cell_type": "code",
   "execution_count": 27,
   "metadata": {
    "collapsed": false
   },
   "outputs": [],
   "source": [
    "training_targets = train.ix[:, 8:9]"
   ]
  },
  {
   "cell_type": "code",
   "execution_count": 28,
   "metadata": {
    "collapsed": false
   },
   "outputs": [
    {
     "data": {
      "text/html": [
       "<div>\n",
       "<table border=\"1\" class=\"dataframe\">\n",
       "  <thead>\n",
       "    <tr style=\"text-align: right;\">\n",
       "      <th></th>\n",
       "      <th>Is_Clicked</th>\n",
       "    </tr>\n",
       "  </thead>\n",
       "  <tbody>\n",
       "    <tr>\n",
       "      <th>87624</th>\n",
       "      <td>1</td>\n",
       "    </tr>\n",
       "    <tr>\n",
       "      <th>4952</th>\n",
       "      <td>1</td>\n",
       "    </tr>\n",
       "    <tr>\n",
       "      <th>28951</th>\n",
       "      <td>0</td>\n",
       "    </tr>\n",
       "    <tr>\n",
       "      <th>26970</th>\n",
       "      <td>0</td>\n",
       "    </tr>\n",
       "    <tr>\n",
       "      <th>113774</th>\n",
       "      <td>0</td>\n",
       "    </tr>\n",
       "  </tbody>\n",
       "</table>\n",
       "</div>"
      ],
      "text/plain": [
       "        Is_Clicked\n",
       "87624            1\n",
       "4952             1\n",
       "28951            0\n",
       "26970            0\n",
       "113774           0"
      ]
     },
     "execution_count": 28,
     "metadata": {},
     "output_type": "execute_result"
    }
   ],
   "source": [
    "training_targets.head()"
   ]
  },
  {
   "cell_type": "code",
   "execution_count": 29,
   "metadata": {
    "collapsed": false
   },
   "outputs": [],
   "source": [
    "training_targets = np.ravel(training_targets)"
   ]
  },
  {
   "cell_type": "code",
   "execution_count": 30,
   "metadata": {
    "collapsed": true
   },
   "outputs": [],
   "source": [
    "testing_targets = test.ix[:, 8:9]"
   ]
  },
  {
   "cell_type": "code",
   "execution_count": 31,
   "metadata": {
    "collapsed": false
   },
   "outputs": [
    {
     "data": {
      "text/html": [
       "<div>\n",
       "<table border=\"1\" class=\"dataframe\">\n",
       "  <thead>\n",
       "    <tr style=\"text-align: right;\">\n",
       "      <th></th>\n",
       "      <th>Is_Clicked</th>\n",
       "    </tr>\n",
       "  </thead>\n",
       "  <tbody>\n",
       "    <tr>\n",
       "      <th>63438</th>\n",
       "      <td>1</td>\n",
       "    </tr>\n",
       "    <tr>\n",
       "      <th>56975</th>\n",
       "      <td>0</td>\n",
       "    </tr>\n",
       "    <tr>\n",
       "      <th>102002</th>\n",
       "      <td>1</td>\n",
       "    </tr>\n",
       "    <tr>\n",
       "      <th>57051</th>\n",
       "      <td>0</td>\n",
       "    </tr>\n",
       "    <tr>\n",
       "      <th>3824</th>\n",
       "      <td>1</td>\n",
       "    </tr>\n",
       "  </tbody>\n",
       "</table>\n",
       "</div>"
      ],
      "text/plain": [
       "        Is_Clicked\n",
       "63438            1\n",
       "56975            0\n",
       "102002           1\n",
       "57051            0\n",
       "3824             1"
      ]
     },
     "execution_count": 31,
     "metadata": {},
     "output_type": "execute_result"
    }
   ],
   "source": [
    "testing_targets.head()"
   ]
  },
  {
   "cell_type": "code",
   "execution_count": 32,
   "metadata": {
    "collapsed": false
   },
   "outputs": [],
   "source": [
    "X = training_features.apply(LabelEncoder().fit_transform)"
   ]
  },
  {
   "cell_type": "code",
   "execution_count": 33,
   "metadata": {
    "collapsed": false
   },
   "outputs": [
    {
     "data": {
      "text/plain": [
       "dtype('int64')"
      ]
     },
     "execution_count": 33,
     "metadata": {},
     "output_type": "execute_result"
    }
   ],
   "source": [
    "X[\"Ad_Title\"].dtype"
   ]
  },
  {
   "cell_type": "code",
   "execution_count": 34,
   "metadata": {
    "collapsed": false
   },
   "outputs": [],
   "source": [
    "Y = training_targets"
   ]
  },
  {
   "cell_type": "code",
   "execution_count": 35,
   "metadata": {
    "collapsed": false
   },
   "outputs": [
    {
     "data": {
      "text/plain": [
       "LogisticRegression(C=1.0, class_weight=None, dual=False, fit_intercept=True,\n",
       "          intercept_scaling=1, max_iter=100, multi_class='ovr', n_jobs=1,\n",
       "          penalty='l2', random_state=None, solver='liblinear', tol=0.0001,\n",
       "          verbose=0, warm_start=False)"
      ]
     },
     "execution_count": 35,
     "metadata": {},
     "output_type": "execute_result"
    }
   ],
   "source": [
    "ads_ctr_model.fit(X,Y)"
   ]
  },
  {
   "cell_type": "code",
   "execution_count": 36,
   "metadata": {
    "collapsed": false
   },
   "outputs": [
    {
     "data": {
      "text/plain": [
       "0.50868122379768432"
      ]
     },
     "execution_count": 36,
     "metadata": {},
     "output_type": "execute_result"
    }
   ],
   "source": [
    "ads_ctr_model.score(X, Y)"
   ]
  },
  {
   "cell_type": "code",
   "execution_count": 37,
   "metadata": {
    "collapsed": false
   },
   "outputs": [
    {
     "data": {
      "text/plain": [
       "0.50264753919294269"
      ]
     },
     "execution_count": 37,
     "metadata": {},
     "output_type": "execute_result"
    }
   ],
   "source": [
    "Y.mean()"
   ]
  },
  {
   "cell_type": "code",
   "execution_count": 38,
   "metadata": {
    "collapsed": false,
    "scrolled": true
   },
   "outputs": [],
   "source": [
    "testing_features = test.ix[:, 0:8]"
   ]
  },
  {
   "cell_type": "code",
   "execution_count": 39,
   "metadata": {
    "collapsed": false
   },
   "outputs": [],
   "source": [
    "X_test = testing_features.apply(LabelEncoder().fit_transform)"
   ]
  },
  {
   "cell_type": "code",
   "execution_count": 40,
   "metadata": {
    "collapsed": false
   },
   "outputs": [
    {
     "data": {
      "text/html": [
       "<div>\n",
       "<table border=\"1\" class=\"dataframe\">\n",
       "  <thead>\n",
       "    <tr style=\"text-align: right;\">\n",
       "      <th></th>\n",
       "      <th>Ad_Title</th>\n",
       "      <th>Ad_Display_Position</th>\n",
       "      <th>Ad_Type</th>\n",
       "      <th>Search_Key_Text</th>\n",
       "      <th>Search_Location</th>\n",
       "      <th>Linking_Site_URL</th>\n",
       "      <th>Parent_Site_URL</th>\n",
       "      <th>Device_Type</th>\n",
       "    </tr>\n",
       "  </thead>\n",
       "  <tbody>\n",
       "    <tr>\n",
       "      <th>63438</th>\n",
       "      <td>1813</td>\n",
       "      <td>5</td>\n",
       "      <td>7</td>\n",
       "      <td>2434</td>\n",
       "      <td>67</td>\n",
       "      <td>2544</td>\n",
       "      <td>3848</td>\n",
       "      <td>2</td>\n",
       "    </tr>\n",
       "    <tr>\n",
       "      <th>56975</th>\n",
       "      <td>1072</td>\n",
       "      <td>6</td>\n",
       "      <td>6</td>\n",
       "      <td>226</td>\n",
       "      <td>48</td>\n",
       "      <td>2499</td>\n",
       "      <td>3862</td>\n",
       "      <td>1</td>\n",
       "    </tr>\n",
       "    <tr>\n",
       "      <th>102002</th>\n",
       "      <td>1346</td>\n",
       "      <td>5</td>\n",
       "      <td>4</td>\n",
       "      <td>1988</td>\n",
       "      <td>33</td>\n",
       "      <td>549</td>\n",
       "      <td>2767</td>\n",
       "      <td>1</td>\n",
       "    </tr>\n",
       "    <tr>\n",
       "      <th>57051</th>\n",
       "      <td>1414</td>\n",
       "      <td>5</td>\n",
       "      <td>0</td>\n",
       "      <td>1712</td>\n",
       "      <td>39</td>\n",
       "      <td>2618</td>\n",
       "      <td>2812</td>\n",
       "      <td>0</td>\n",
       "    </tr>\n",
       "    <tr>\n",
       "      <th>3824</th>\n",
       "      <td>379</td>\n",
       "      <td>5</td>\n",
       "      <td>2</td>\n",
       "      <td>558</td>\n",
       "      <td>11</td>\n",
       "      <td>1287</td>\n",
       "      <td>1986</td>\n",
       "      <td>0</td>\n",
       "    </tr>\n",
       "    <tr>\n",
       "      <th>115555</th>\n",
       "      <td>1626</td>\n",
       "      <td>2</td>\n",
       "      <td>2</td>\n",
       "      <td>2137</td>\n",
       "      <td>42</td>\n",
       "      <td>1098</td>\n",
       "      <td>1822</td>\n",
       "      <td>0</td>\n",
       "    </tr>\n",
       "    <tr>\n",
       "      <th>79295</th>\n",
       "      <td>732</td>\n",
       "      <td>2</td>\n",
       "      <td>7</td>\n",
       "      <td>59</td>\n",
       "      <td>10</td>\n",
       "      <td>2524</td>\n",
       "      <td>1554</td>\n",
       "      <td>2</td>\n",
       "    </tr>\n",
       "    <tr>\n",
       "      <th>7751</th>\n",
       "      <td>1965</td>\n",
       "      <td>2</td>\n",
       "      <td>2</td>\n",
       "      <td>22</td>\n",
       "      <td>60</td>\n",
       "      <td>2636</td>\n",
       "      <td>3670</td>\n",
       "      <td>0</td>\n",
       "    </tr>\n",
       "    <tr>\n",
       "      <th>89157</th>\n",
       "      <td>1223</td>\n",
       "      <td>3</td>\n",
       "      <td>6</td>\n",
       "      <td>2736</td>\n",
       "      <td>21</td>\n",
       "      <td>1920</td>\n",
       "      <td>186</td>\n",
       "      <td>0</td>\n",
       "    </tr>\n",
       "    <tr>\n",
       "      <th>41666</th>\n",
       "      <td>1928</td>\n",
       "      <td>1</td>\n",
       "      <td>2</td>\n",
       "      <td>521</td>\n",
       "      <td>53</td>\n",
       "      <td>1943</td>\n",
       "      <td>1460</td>\n",
       "      <td>0</td>\n",
       "    </tr>\n",
       "  </tbody>\n",
       "</table>\n",
       "</div>"
      ],
      "text/plain": [
       "        Ad_Title  Ad_Display_Position  Ad_Type  Search_Key_Text  \\\n",
       "63438       1813                    5        7             2434   \n",
       "56975       1072                    6        6              226   \n",
       "102002      1346                    5        4             1988   \n",
       "57051       1414                    5        0             1712   \n",
       "3824         379                    5        2              558   \n",
       "115555      1626                    2        2             2137   \n",
       "79295        732                    2        7               59   \n",
       "7751        1965                    2        2               22   \n",
       "89157       1223                    3        6             2736   \n",
       "41666       1928                    1        2              521   \n",
       "\n",
       "        Search_Location  Linking_Site_URL  Parent_Site_URL  Device_Type  \n",
       "63438                67              2544             3848            2  \n",
       "56975                48              2499             3862            1  \n",
       "102002               33               549             2767            1  \n",
       "57051                39              2618             2812            0  \n",
       "3824                 11              1287             1986            0  \n",
       "115555               42              1098             1822            0  \n",
       "79295                10              2524             1554            2  \n",
       "7751                 60              2636             3670            0  \n",
       "89157                21              1920              186            0  \n",
       "41666                53              1943             1460            0  "
      ]
     },
     "execution_count": 40,
     "metadata": {},
     "output_type": "execute_result"
    }
   ],
   "source": [
    "X_test.head(10)"
   ]
  },
  {
   "cell_type": "code",
   "execution_count": 41,
   "metadata": {
    "collapsed": false
   },
   "outputs": [],
   "source": [
    "predicted_targets = ads_ctr_model.predict(X_test)"
   ]
  },
  {
   "cell_type": "code",
   "execution_count": 46,
   "metadata": {
    "collapsed": false
   },
   "outputs": [
    {
     "data": {
      "text/plain": [
       "12715"
      ]
     },
     "execution_count": 46,
     "metadata": {},
     "output_type": "execute_result"
    }
   ],
   "source": [
    "predicted_targets.sum()"
   ]
  },
  {
   "cell_type": "code",
   "execution_count": 43,
   "metadata": {
    "collapsed": false
   },
   "outputs": [
    {
     "data": {
      "text/html": [
       "<div>\n",
       "<table border=\"1\" class=\"dataframe\">\n",
       "  <thead>\n",
       "    <tr style=\"text-align: right;\">\n",
       "      <th></th>\n",
       "      <th>0</th>\n",
       "    </tr>\n",
       "  </thead>\n",
       "  <tbody>\n",
       "    <tr>\n",
       "      <th>0</th>\n",
       "      <td>0</td>\n",
       "    </tr>\n",
       "    <tr>\n",
       "      <th>1</th>\n",
       "      <td>0</td>\n",
       "    </tr>\n",
       "    <tr>\n",
       "      <th>2</th>\n",
       "      <td>0</td>\n",
       "    </tr>\n",
       "    <tr>\n",
       "      <th>3</th>\n",
       "      <td>1</td>\n",
       "    </tr>\n",
       "    <tr>\n",
       "      <th>4</th>\n",
       "      <td>1</td>\n",
       "    </tr>\n",
       "    <tr>\n",
       "      <th>5</th>\n",
       "      <td>1</td>\n",
       "    </tr>\n",
       "    <tr>\n",
       "      <th>6</th>\n",
       "      <td>0</td>\n",
       "    </tr>\n",
       "    <tr>\n",
       "      <th>7</th>\n",
       "      <td>1</td>\n",
       "    </tr>\n",
       "    <tr>\n",
       "      <th>8</th>\n",
       "      <td>0</td>\n",
       "    </tr>\n",
       "    <tr>\n",
       "      <th>9</th>\n",
       "      <td>1</td>\n",
       "    </tr>\n",
       "  </tbody>\n",
       "</table>\n",
       "</div>"
      ],
      "text/plain": [
       "   0\n",
       "0  0\n",
       "1  0\n",
       "2  0\n",
       "3  1\n",
       "4  1\n",
       "5  1\n",
       "6  0\n",
       "7  1\n",
       "8  0\n",
       "9  1"
      ]
     },
     "execution_count": 43,
     "metadata": {},
     "output_type": "execute_result"
    }
   ],
   "source": [
    "predicted_targets_frame = pd.DataFrame(predicted_targets)\n",
    "predicted_targets_frame.head(10)"
   ]
  },
  {
   "cell_type": "code",
   "execution_count": 44,
   "metadata": {
    "collapsed": false
   },
   "outputs": [
    {
     "data": {
      "text/html": [
       "<div>\n",
       "<table border=\"1\" class=\"dataframe\">\n",
       "  <thead>\n",
       "    <tr style=\"text-align: right;\">\n",
       "      <th></th>\n",
       "      <th>Is_Clicked</th>\n",
       "    </tr>\n",
       "  </thead>\n",
       "  <tbody>\n",
       "    <tr>\n",
       "      <th>63438</th>\n",
       "      <td>1</td>\n",
       "    </tr>\n",
       "    <tr>\n",
       "      <th>56975</th>\n",
       "      <td>0</td>\n",
       "    </tr>\n",
       "    <tr>\n",
       "      <th>102002</th>\n",
       "      <td>1</td>\n",
       "    </tr>\n",
       "    <tr>\n",
       "      <th>57051</th>\n",
       "      <td>0</td>\n",
       "    </tr>\n",
       "    <tr>\n",
       "      <th>3824</th>\n",
       "      <td>1</td>\n",
       "    </tr>\n",
       "    <tr>\n",
       "      <th>115555</th>\n",
       "      <td>1</td>\n",
       "    </tr>\n",
       "    <tr>\n",
       "      <th>79295</th>\n",
       "      <td>1</td>\n",
       "    </tr>\n",
       "    <tr>\n",
       "      <th>7751</th>\n",
       "      <td>0</td>\n",
       "    </tr>\n",
       "    <tr>\n",
       "      <th>89157</th>\n",
       "      <td>1</td>\n",
       "    </tr>\n",
       "    <tr>\n",
       "      <th>41666</th>\n",
       "      <td>1</td>\n",
       "    </tr>\n",
       "  </tbody>\n",
       "</table>\n",
       "</div>"
      ],
      "text/plain": [
       "        Is_Clicked\n",
       "63438            1\n",
       "56975            0\n",
       "102002           1\n",
       "57051            0\n",
       "3824             1\n",
       "115555           1\n",
       "79295            1\n",
       "7751             0\n",
       "89157            1\n",
       "41666            1"
      ]
     },
     "execution_count": 44,
     "metadata": {},
     "output_type": "execute_result"
    }
   ],
   "source": [
    "testing_targets.head(10)"
   ]
  },
  {
   "cell_type": "code",
   "execution_count": 45,
   "metadata": {
    "collapsed": false
   },
   "outputs": [
    {
     "data": {
      "text/plain": [
       "Is_Clicked    12074\n",
       "dtype: int64"
      ]
     },
     "execution_count": 45,
     "metadata": {},
     "output_type": "execute_result"
    }
   ],
   "source": [
    "testing_targets.sum()"
   ]
  },
  {
   "cell_type": "code",
   "execution_count": null,
   "metadata": {
    "collapsed": true
   },
   "outputs": [],
   "source": []
  },
  {
   "cell_type": "code",
   "execution_count": null,
   "metadata": {
    "collapsed": true
   },
   "outputs": [],
   "source": []
  },
  {
   "cell_type": "code",
   "execution_count": null,
   "metadata": {
    "collapsed": true
   },
   "outputs": [],
   "source": []
  }
 ],
 "metadata": {
  "kernelspec": {
   "display_name": "Python 2",
   "language": "python",
   "name": "python2"
  },
  "language_info": {
   "codemirror_mode": {
    "name": "ipython",
    "version": 2
   },
   "file_extension": ".py",
   "mimetype": "text/x-python",
   "name": "python",
   "nbconvert_exporter": "python",
   "pygments_lexer": "ipython2",
   "version": "2.7.11"
  }
 },
 "nbformat": 4,
 "nbformat_minor": 0
}
